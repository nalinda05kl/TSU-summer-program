{
 "cells": [
  {
   "cell_type": "markdown",
   "metadata": {},
   "source": [
    "# 4. Deep learning (4 weeks)"
   ]
  },
  {
   "cell_type": "markdown",
   "metadata": {},
   "source": [
    "# Session 4.1: Introduction to deep learning\n",
    "* NOTE: Content of this note book are taken from: https://skymind.ai/wiki/neural-network#define"
   ]
  },
  {
   "cell_type": "markdown",
   "metadata": {},
   "source": [
    "### 4.1.1 Neural Network Definition\n",
    "* Neural networks are a set of algorithms, modeled loosely after the human brain, that are designed to recognize patterns. They interpret sensory data through a kind of machine perception, labeling or clustering raw input. The patterns they recognize are numerical, contained in vectors, into which all real-world data, be it images, sound, text or time series, must be translated. <br><br>\n",
    "\n",
    "* Neural networks help us cluster and classify. You can think of them as a clustering and classification layer on top of the data you store and manage. They help to group unlabeled data according to similarities among the example inputs, and they classify data when they have a labeled dataset to train on. (Neural networks can also extract features that are fed to other algorithms for clustering and classification; so you can think of deep neural networks as components of larger machine-learning applications involving algorithms for reinforcement learning, classification and regression.) <br><br>\n",
    "\n",
    "* What kind of problems does deep learning solve, and more importantly, can it solve yours? To know the answer, you need to ask questions:\n",
    "\n",
    "    1. What outcomes do I care about? Those outcomes are labels that could be applied to data: for example, spam or not_spam in an email filter, good_guy or bad_guy in fraud detection, angry_customer or happy_customer in customer relationship management.\n",
    "\n",
    "    2. Do I have the data to accompany those labels? That is, can I find labeled data, or can I create a labeled dataset (with a service like AWS Mechanical Turk or Figure Eight or Mighty.ai) where spam has been labeled as spam, in order to teach an algorithm the correlation between labels and inputs? <br><br>\n",
    "    \n",
    "* Deep learning maps inputs to outputs. It finds correlations. It is known as a “universal approximator”, because it can learn to approximate an unknown function $f(x) = y$ between any input $x$ and any output $y$, assuming they are related at all (by correlation or causation, for example). In the process of learning, a neural network finds the right $f$, or the correct manner of transforming $x$ into $y$, whether that be, $f(x) = 3x + 12$ or $f(x) = 9x - 0.1$. Here are a few examples of what deep learning can do."
   ]
  },
  {
   "cell_type": "markdown",
   "metadata": {},
   "source": [
    "### 4.1.2 Classification\n",
    "* All classification tasks depend upon labeled datasets; that is, humans must transfer their knowledge to the dataset in order for a neural network to learn the correlation between labels and data. This is known as supervised learning. Few examples: \n",
    "\n",
    "    1. Detect faces, identify people in images, recognize facial expressions (angry, joyful)\n",
    "    2. Identify objects in images (stop signs, pedestrians, lane markers…)\n",
    "    3. Recognize gestures in video\n",
    "    4. Detect voices, identify speakers, transcribe speech to text, recognize sentiment in voices\n",
    "    5. Classify text as spam (in emails), or fraudulent (in insurance claims); recognize sentiment in text (customer feedback)\n",
    "    6. Any labels that humans can generate, any outcomes that you care about and which correlate to data, can be used to train a neural network."
   ]
  },
  {
   "cell_type": "markdown",
   "metadata": {},
   "source": [
    "### 4.1.3 Predictive Analytics: Regressions\n",
    "* With classification, deep learning is able to establish correlations between, say, pixels in an image and the name of a person. You might call this a static prediction. By the same token, exposed to enough of the right data, deep learning is able to establish correlations between present events and future events. It can run regression between the past and the future. The future event is like the label in a sense. Deep learning doesn’t necessarily care about time, or the fact that something hasn’t happened yet. Given a time series, deep learning may read a string of number and predict the number most likely to occur next. Deep learning can be reaaly helpful in providing solutions to many industrial problems, such as:\n",
    "\n",
    "    1. Hardware breakdowns (data centers, manufacturing, transport)\n",
    "    2. Health breakdowns (strokes, heart attacks based on vital stats and data from wearables)\n",
    "    3. Customer churn (predicting the likelihood that a customer will leave, based on web activity and metadata)\n",
    "    4. Employee turnover (ditto, but for employees) <br> <br>\n",
    "    \n",
    "* The better we can predict, the better we can prevent and pre-empt. As you can see, with neural networks, we’re moving towards a world of fewer surprises. Not zero surprises, just marginally fewer. We’re also moving toward a world of smarter agents that combine neural networks with other algorithms like reinforcement learning to attain goals. With this brief overview of deep learning use cases, let’s look at what neural nets are made of."
   ]
  },
  {
   "cell_type": "markdown",
   "metadata": {},
   "source": [
    "### 4.1.4 Neural Network Elements\n",
    "\n",
    "* Deep learning is the name we use for “stacked neural networks”; that is, networks composed of several layers. The layers are made of nodes. A node is just a place where computation happens, loosely patterned on a neuron in the human brain, which fires when it encounters sufficient stimuli. A node combines input from the data with a set of coefficients, or weights, that either amplify or dampen that input, thereby assigning significance to inputs with regard to the task the algorithm is trying to learn; e.g. which input is most helpful is classifying data without error? These input-weight products are summed and then the sum is passed through a node’s so-called activation function, to determine whether and to what extent that signal should progress further through the network to affect the ultimate outcome, say, an act of classification. If the signals passes through, the neuron has been “activated.” <br><br>\n",
    "\n",
    "* Here’s a diagram of what one node might look like."
   ]
  },
  {
   "cell_type": "markdown",
   "metadata": {},
   "source": [
    "<img src=\"NN_node.png\">"
   ]
  },
  {
   "cell_type": "code",
   "execution_count": null,
   "metadata": {},
   "outputs": [],
   "source": []
  }
 ],
 "metadata": {
  "kernelspec": {
   "display_name": "Python 2",
   "language": "python",
   "name": "python2"
  },
  "language_info": {
   "codemirror_mode": {
    "name": "ipython",
    "version": 2
   },
   "file_extension": ".py",
   "mimetype": "text/x-python",
   "name": "python",
   "nbconvert_exporter": "python",
   "pygments_lexer": "ipython2",
   "version": "2.7.13"
  }
 },
 "nbformat": 4,
 "nbformat_minor": 2
}
