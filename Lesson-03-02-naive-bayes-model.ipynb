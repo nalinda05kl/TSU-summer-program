{
 "cells": [
  {
   "cell_type": "markdown",
   "metadata": {},
   "source": [
    "# 3. Introduction to machine learning (2 1/2 weeks)"
   ]
  },
  {
   "cell_type": "markdown",
   "metadata": {},
   "source": [
    "# Session 3.2: Naive Bayes Classifier\n",
    "* For maore information on the Bayes theorem, please visit the wiki page: https://en.wikipedia.org/wiki/Bayes%27_theorem <br>\n",
    "* Naive Bayes classifiers in sklearn: https://scikit-learn.org/stable/modules/naive_bayes.html"
   ]
  },
  {
   "cell_type": "markdown",
   "metadata": {},
   "source": [
    "### 3.2.1 Predicting outdoor playing conditions <br>\n",
    "* In this note book, we will discuss how thw Naive Bayes Cassifier can be sued foa simple classification problem. This example is based on the effects of environmental conditions on the outdorr playing possibility. Data set contains two features: weather (Sunny, Overcast or Rainy) , temp (Hot, Mild or Cool). Labels for the data set are either yes: good for paly or no: bad for play. After some pre processing, we'll fit the data with Gaussian Naive Bayes model and predict labels of new feature instances."
   ]
  },
  {
   "cell_type": "code",
   "execution_count": 1,
   "metadata": {},
   "outputs": [],
   "source": [
    "# Assigning features and label variables\n",
    "weather=['Sunny','Sunny','Overcast','Rainy','Rainy','Rainy','Overcast','Sunny','Sunny',\n",
    "'Rainy','Sunny','Overcast','Overcast','Rainy']\n",
    "temp=['Hot','Hot','Hot','Mild','Cool','Cool','Cool','Mild','Cool','Mild','Mild','Mild','Hot','Mild']\n",
    "\n",
    "play=['No','No','Yes','Yes','Yes','No','Yes','No','Yes','Yes','Yes','Yes','Yes','No']"
   ]
  },
  {
   "cell_type": "code",
   "execution_count": 23,
   "metadata": {},
   "outputs": [
    {
     "name": "stdout",
     "output_type": "stream",
     "text": [
      "['Sunny', 'Sunny', 'Overcast', 'Rainy', 'Rainy', 'Rainy', 'Overcast', 'Sunny', 'Sunny', 'Rainy', 'Sunny', 'Overcast', 'Overcast', 'Rainy']\n",
      "['Hot', 'Hot', 'Hot', 'Mild', 'Cool', 'Cool', 'Cool', 'Mild', 'Cool', 'Mild', 'Mild', 'Mild', 'Hot', 'Mild']\n",
      "['No', 'No', 'Yes', 'Yes', 'Yes', 'No', 'Yes', 'No', 'Yes', 'Yes', 'Yes', 'Yes', 'Yes', 'No']\n"
     ]
    }
   ],
   "source": [
    "print weather\n",
    "print temp\n",
    "print play"
   ]
  },
  {
   "cell_type": "code",
   "execution_count": 3,
   "metadata": {},
   "outputs": [
    {
     "name": "stdout",
     "output_type": "stream",
     "text": [
      "[2 2 0 1 1 1 0 2 2 1 2 0 0 1]\n"
     ]
    }
   ],
   "source": [
    "# Import LabelEncoder\n",
    "from sklearn import preprocessing\n",
    "#creating labelEncoder\n",
    "le = preprocessing.LabelEncoder()\n",
    "# Converting string labels into numbers.\n",
    "weather_encoded=le.fit_transform(weather)\n",
    "print weather_encoded"
   ]
  },
  {
   "cell_type": "code",
   "execution_count": 4,
   "metadata": {},
   "outputs": [
    {
     "name": "stdout",
     "output_type": "stream",
     "text": [
      "Temp: [1 1 1 2 0 0 0 2 0 2 2 2 1 2]\n",
      "Play: [0 0 1 1 1 0 1 0 1 1 1 1 1 0]\n"
     ]
    }
   ],
   "source": [
    "# Converting string labels into numbers\n",
    "temp_encoded=le.fit_transform(temp)\n",
    "label=le.fit_transform(play)\n",
    "print \"Temp:\",temp_encoded\n",
    "print \"Play:\",label"
   ]
  },
  {
   "cell_type": "code",
   "execution_count": 5,
   "metadata": {},
   "outputs": [
    {
     "name": "stdout",
     "output_type": "stream",
     "text": [
      "[(2, 1), (2, 1), (0, 1), (1, 2), (1, 0), (1, 0), (0, 0), (2, 2), (2, 0), (1, 2), (2, 2), (0, 2), (0, 1), (1, 2)]\n"
     ]
    }
   ],
   "source": [
    "#Combinig weather and temp into single listof tuples\n",
    "features=zip(weather_encoded,temp_encoded)\n",
    "print features"
   ]
  },
  {
   "cell_type": "code",
   "execution_count": 6,
   "metadata": {},
   "outputs": [
    {
     "name": "stdout",
     "output_type": "stream",
     "text": [
      "Predicted Value: [1]\n"
     ]
    }
   ],
   "source": [
    "#Import Gaussian Naive Bayes model\n",
    "from sklearn.naive_bayes import GaussianNB\n",
    "\n",
    "#Create a Gaussian Classifier\n",
    "model = GaussianNB()\n",
    "\n",
    "# Train the model using the training sets\n",
    "model.fit(features,label)\n",
    "\n",
    "#Predict Output\n",
    "predicted= model.predict([[0,2]]) # 0:Overcast, 2:Mild\n",
    "print \"Predicted Value:\", predicted"
   ]
  },
  {
   "cell_type": "code",
   "execution_count": 21,
   "metadata": {},
   "outputs": [
    {
     "name": "stdout",
     "output_type": "stream",
     "text": [
      "Features: (2, 1) \t Prediction: 0 \t True: 0.\n",
      "Features: (2, 1) \t Prediction: 0 \t True: 0.\n",
      "Features: (0, 1) \t Prediction: 1 \t True: 1.\n",
      "Features: (1, 2) \t Prediction: 1 \t True: 1.\n",
      "Features: (1, 0) \t Prediction: 1 \t True: 1.\n",
      "Features: (1, 0) \t Prediction: 1 \t True: 0.\n",
      "Features: (0, 0) \t Prediction: 1 \t True: 1.\n",
      "Features: (2, 2) \t Prediction: 0 \t True: 0.\n",
      "Features: (2, 0) \t Prediction: 0 \t True: 1.\n",
      "Features: (1, 2) \t Prediction: 1 \t True: 1.\n",
      "Features: (2, 2) \t Prediction: 0 \t True: 1.\n",
      "Features: (0, 2) \t Prediction: 1 \t True: 1.\n",
      "Features: (0, 1) \t Prediction: 1 \t True: 1.\n",
      "Features: (1, 2) \t Prediction: 1 \t True: 0.\n",
      "\n",
      "Model Performance: 71.4285714286%\n"
     ]
    }
   ],
   "source": [
    "# Testing how many labels can be predicted correctly from the model.\n",
    "good = 0\n",
    "bad = 0\n",
    "for i,j in zip(features,label):\n",
    "    print (\"Features: {} \\t Prediction: {} \\t True: {}.\".format(i, int(model.predict([i])), int(j)))\n",
    "    if (int(model.predict([i])) == int(j)):\n",
    "        good += 1\n",
    "    else:\n",
    "        bad += 1\n",
    "Performance = float(good)/(float(good) + float(bad))\n",
    "print \"\\nModel Performance: {}%\".format(Performance*100)"
   ]
  },
  {
   "cell_type": "markdown",
   "metadata": {},
   "source": [
    "### <font color='red'>Exercise 3.2</font> <br>\n",
    "\n",
    "Consider you have given an additional set of features to the above data set. <br>\n",
    "\n",
    "Humidity = ['High', 'Medium', 'Low', 'Low', 'Medium', 'Low', 'High', 'Low', 'Medium', 'Low', 'Medium', 'Medium', 'Low', 'Low'] <br>\n",
    "\n",
    "Now, fit the Naive Bayes model and claculate the perfomance of the model as a percentage."
   ]
  },
  {
   "cell_type": "code",
   "execution_count": 25,
   "metadata": {},
   "outputs": [
    {
     "name": "stdout",
     "output_type": "stream",
     "text": [
      "[0 2 1 1 2 1 0 1 2 1 2 2 1 1]\n"
     ]
    }
   ],
   "source": [
    "Humidity = ['High', 'Medium', 'Low', 'Low', 'Medium', 'Low', 'High', 'Low', 'Medium', 'Low', 'Medium', 'Medium', 'Low', 'Low']\n",
    "humidity_encoded = le.fit_transform(Humidity)\n",
    "print humidity_encoded"
   ]
  },
  {
   "cell_type": "code",
   "execution_count": 26,
   "metadata": {},
   "outputs": [
    {
     "name": "stdout",
     "output_type": "stream",
     "text": [
      "[(2, 1, 0), (2, 1, 2), (0, 1, 1), (1, 2, 1), (1, 0, 2), (1, 0, 1), (0, 0, 0), (2, 2, 1), (2, 0, 2), (1, 2, 1), (2, 2, 2), (0, 2, 2), (0, 1, 1), (1, 2, 1)]\n"
     ]
    }
   ],
   "source": [
    "features_3 =zip(weather_encoded,temp_encoded,humidity_encoded)\n",
    "print features_3"
   ]
  },
  {
   "cell_type": "code",
   "execution_count": 28,
   "metadata": {},
   "outputs": [
    {
     "name": "stdout",
     "output_type": "stream",
     "text": [
      "Predicted Value: [1]\n"
     ]
    }
   ],
   "source": [
    "#Create a Gaussian Classifier\n",
    "model_3 = GaussianNB()\n",
    "\n",
    "# Train the model using the training sets\n",
    "model_3.fit(features_3,label)\n",
    "\n",
    "#Predict Output\n",
    "predicted_3 = model_3.predict([[0,2,1]]) # 0:Overcast, 2:Mild, 1:Medium Humid\n",
    "print \"Predicted Value:\", predicted_3"
   ]
  },
  {
   "cell_type": "code",
   "execution_count": 29,
   "metadata": {},
   "outputs": [
    {
     "name": "stdout",
     "output_type": "stream",
     "text": [
      "Features: (2, 1, 0) \t Prediction: 0 \t True: 0.\n",
      "Features: (2, 1, 2) \t Prediction: 0 \t True: 0.\n",
      "Features: (0, 1, 1) \t Prediction: 1 \t True: 1.\n",
      "Features: (1, 2, 1) \t Prediction: 1 \t True: 1.\n",
      "Features: (1, 0, 2) \t Prediction: 1 \t True: 1.\n",
      "Features: (1, 0, 1) \t Prediction: 1 \t True: 0.\n",
      "Features: (0, 0, 0) \t Prediction: 1 \t True: 1.\n",
      "Features: (2, 2, 1) \t Prediction: 0 \t True: 0.\n",
      "Features: (2, 0, 2) \t Prediction: 1 \t True: 1.\n",
      "Features: (1, 2, 1) \t Prediction: 1 \t True: 1.\n",
      "Features: (2, 2, 2) \t Prediction: 0 \t True: 1.\n",
      "Features: (0, 2, 2) \t Prediction: 1 \t True: 1.\n",
      "Features: (0, 1, 1) \t Prediction: 1 \t True: 1.\n",
      "Features: (1, 2, 1) \t Prediction: 1 \t True: 0.\n",
      "\n",
      "Model Performance: 78.5714285714%\n"
     ]
    }
   ],
   "source": [
    "# Testing how many labels can be predicted correctly from the model.\n",
    "good = 0\n",
    "bad = 0\n",
    "for i,j in zip(features_3,label):\n",
    "    print (\"Features: {} \\t Prediction: {} \\t True: {}.\".format(i, int(model_3.predict([i])), int(j)))\n",
    "    if (int(model_3.predict([i])) == int(j)):\n",
    "        good += 1\n",
    "    else:\n",
    "        bad += 1\n",
    "Performance = float(good)/(float(good) + float(bad))\n",
    "print \"\\nModel Performance: {}%\".format(Performance*100)"
   ]
  },
  {
   "cell_type": "code",
   "execution_count": null,
   "metadata": {},
   "outputs": [],
   "source": []
  }
 ],
 "metadata": {
  "kernelspec": {
   "display_name": "Python 2",
   "language": "python",
   "name": "python2"
  },
  "language_info": {
   "codemirror_mode": {
    "name": "ipython",
    "version": 2
   },
   "file_extension": ".py",
   "mimetype": "text/x-python",
   "name": "python",
   "nbconvert_exporter": "python",
   "pygments_lexer": "ipython2",
   "version": "2.7.13"
  }
 },
 "nbformat": 4,
 "nbformat_minor": 2
}
