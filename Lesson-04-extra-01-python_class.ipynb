{
 "cells": [
  {
   "cell_type": "code",
   "execution_count": 5,
   "metadata": {},
   "outputs": [
    {
     "name": "stdout",
     "output_type": "stream",
     "text": [
      "Name is : Nalinda\n",
      "Address is : Dumble\n"
     ]
    }
   ],
   "source": [
    "from sklearn.base import BaseEstimator, TransformerMixin \n",
    "\n",
    "class Personal_infor(BaseEstimator, TransformerMixin):\n",
    "    \n",
    "    def __init__(self, name, address):\n",
    "        self.name = name\n",
    "        self.address = address\n",
    "        \n",
    "    def fit(self, X, y=None):\n",
    "        return self\n",
    "    \n",
    "    def show_infor(self):\n",
    "        print \"Name is :\", self.name\n",
    "        print \"Address is :\", self. address\n",
    "        \n",
    "    def show_both_infor(self):\n",
    "        print \"Infor : \", self.name, \" lives at \", self.address, \" street.\"\n",
    "        \n",
    "Nalinda = Personal_infor(\"Nalinda\", \"Dumble\")\n",
    "Saumali = Personal_infor(\"Saumali\", \"Dumble\")\n",
    "\n",
    "Nalinda.show_infor()"
   ]
  },
  {
   "cell_type": "code",
   "execution_count": 6,
   "metadata": {},
   "outputs": [
    {
     "name": "stdout",
     "output_type": "stream",
     "text": [
      "Infor :  Nalinda  lives at  Dumble  street.\n"
     ]
    }
   ],
   "source": [
    "Nalinda.show_both_infor()"
   ]
  },
  {
   "cell_type": "code",
   "execution_count": 7,
   "metadata": {},
   "outputs": [
    {
     "name": "stdout",
     "output_type": "stream",
     "text": [
      "Infor :  Saumali  lives at  Dumble  street.\n"
     ]
    }
   ],
   "source": [
    "Saumali.show_both_infor()"
   ]
  },
  {
   "cell_type": "code",
   "execution_count": 8,
   "metadata": {},
   "outputs": [],
   "source": [
    "A =  [2, 4, 5, 3, 6, 7, 8, 4]"
   ]
  },
  {
   "cell_type": "code",
   "execution_count": 12,
   "metadata": {},
   "outputs": [
    {
     "data": {
      "text/plain": [
       "Personal_infor(address='Dumble', name='Nalinda')"
      ]
     },
     "execution_count": 12,
     "metadata": {},
     "output_type": "execute_result"
    }
   ],
   "source": [
    "Nalinda.fit(A,A)"
   ]
  },
  {
   "cell_type": "code",
   "execution_count": 13,
   "metadata": {},
   "outputs": [
    {
     "data": {
      "text/plain": [
       "Personal_infor(address='Dumble', name='Saumali')"
      ]
     },
     "execution_count": 13,
     "metadata": {},
     "output_type": "execute_result"
    }
   ],
   "source": [
    "Saumali.fit(A,A)"
   ]
  },
  {
   "cell_type": "code",
   "execution_count": null,
   "metadata": {},
   "outputs": [],
   "source": []
  }
 ],
 "metadata": {
  "kernelspec": {
   "display_name": "Python 2",
   "language": "python",
   "name": "python2"
  },
  "language_info": {
   "codemirror_mode": {
    "name": "ipython",
    "version": 2
   },
   "file_extension": ".py",
   "mimetype": "text/x-python",
   "name": "python",
   "nbconvert_exporter": "python",
   "pygments_lexer": "ipython2",
   "version": "2.7.13"
  }
 },
 "nbformat": 4,
 "nbformat_minor": 2
}
