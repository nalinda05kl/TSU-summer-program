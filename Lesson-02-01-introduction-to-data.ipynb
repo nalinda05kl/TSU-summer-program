{
 "cells": [
  {
   "cell_type": "markdown",
   "metadata": {},
   "source": [
    "# 2. Short Introduction to Data"
   ]
  },
  {
   "cell_type": "markdown",
   "metadata": {},
   "source": [
    "### 2. 1 Why use data?"
   ]
  },
  {
   "cell_type": "markdown",
   "metadata": {},
   "source": [
    "People turn to data because they have a story to tell or a problem to solve. Most people start with a question, then look to data for answers. In a service setting, questions might include, “who is receiving services?” and “who does best in treatment?”\n",
    "What if you do not have a question to begin with? Exploring data without a defined question, sometimes referred to as “data mining”, can sometimes reveal interesting patterns in the data that are worth exploring. Regardless of what leads you to look at data, thinking about your audience (your staff, supervisor, Board members, etc.) is helpful to shape the story and guide your thinking about the data.\n",
    "Whenever you look at data, it is important to be open to unexpected patterns, explanations, and unusual results. Sometimes the most interesting stories to be told with data are not the ones you set out to tell."
   ]
  },
  {
   "cell_type": "markdown",
   "metadata": {},
   "source": [
    "### 2.2 What types of data exist?"
   ]
  },
  {
   "cell_type": "markdown",
   "metadata": {},
   "source": [
    "Data is used to describe things by assigning a value to them. The values are then organized, processed, and presented within a given context so that it becomes useful. Data can be in different forms: qualitative and quantitative:"
   ]
  },
  {
   "cell_type": "markdown",
   "metadata": {},
   "source": [
    "#### Qualitative Data:"
   ]
  },
  {
   "cell_type": "markdown",
   "metadata": {},
   "source": [
    "“Qualitative data” is data that uses words and descriptions. Qualitative data can be observed but is subjective and therefore difficult to use for the purposes of making comparisons. Descriptions of texture, taste, or an experience are all examples of qualitative data. Qualitative data collection methods include focus groups, interviews, or open-ended items on a survey."
   ]
  },
  {
   "cell_type": "markdown",
   "metadata": {},
   "source": [
    "#### Quantitative Data:"
   ]
  },
  {
   "cell_type": "markdown",
   "metadata": {},
   "source": [
    "“Quantitative data” is data that is expressed with numbers. Quantitative data is data which can be put into categories, measured, or ranked. Length, weight, age, cost, rating scales, are all examples of quantitative data. Quantitative data can be represented visually in graphs and tables and be statistically analyzed. The qualitative data that describes this cup of coffee are that it has a strong taste and robust aroma. The quantitative data that describes the cup of coffee is that it is 12 ounces, 150 degrees Fahrenheit, and costs USD 1.50. <br>\n",
    "There are two types of quantitative data: categorical and continuous."
   ]
  },
  {
   "cell_type": "markdown",
   "metadata": {},
   "source": [
    "$\\;\\;\\;\\;\\;\\;$ Categorical data: “Categorical data” is data that has been placed into groups. An item cannot belong to more than one group at a time. Examples of categorical data within OMS would be the individual’s current living situation, smoking status, or whether he/she is employed. As discussed in more detail later, the type of analysis used with categorical data is the Chi-square test."
   ]
  },
  {
   "cell_type": "markdown",
   "metadata": {},
   "source": [
    "$\\;\\;\\;\\;\\;\\;$ Continuous Data: “Continuous data” is numerical data measured on a continuous range or scale. In continuous data, all values are possible with no gaps in between. Examples of continuous data are a person’s height or weight, and temperature. As discussed in more detail later, many types of analysis can be used with continuous data, including effect size calculations."
   ]
  },
  {
   "cell_type": "code",
   "execution_count": null,
   "metadata": {},
   "outputs": [],
   "source": []
  }
 ],
 "metadata": {
  "kernelspec": {
   "display_name": "Python 3",
   "language": "python",
   "name": "python3"
  },
  "language_info": {
   "codemirror_mode": {
    "name": "ipython",
    "version": 3
   },
   "file_extension": ".py",
   "mimetype": "text/x-python",
   "name": "python",
   "nbconvert_exporter": "python",
   "pygments_lexer": "ipython3",
   "version": "3.7.0"
  }
 },
 "nbformat": 4,
 "nbformat_minor": 2
}
