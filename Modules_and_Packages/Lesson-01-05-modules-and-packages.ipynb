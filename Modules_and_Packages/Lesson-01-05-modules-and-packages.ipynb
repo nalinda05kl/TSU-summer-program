{
 "cells": [
  {
   "cell_type": "markdown",
   "metadata": {},
   "source": [
    "# 1. Python Programing (1 week)"
   ]
  },
  {
   "cell_type": "markdown",
   "metadata": {},
   "source": [
    "# Session 1.5: Modules and packages"
   ]
  },
  {
   "cell_type": "markdown",
   "metadata": {},
   "source": [
    "### 1.5.1 Introduction "
   ]
  },
  {
   "cell_type": "markdown",
   "metadata": {},
   "source": [
    "#### Python is one of the leading programing languages used in data science due to the large amount of data science modules and packages (a.k.a. libraries) available absolutely free of charge! . In this program we'll be using following libraries. <br>"
   ]
  },
  {
   "cell_type": "markdown",
   "metadata": {},
   "source": [
    "Web reference : [Top 20 Python libraries for Data Science, I. Bobriakov](https://medium.com/activewizards-machine-learning-company/top-20-python-libraries-for-data-science-in-2018-2ae7d1db8049)"
   ]
  },
  {
   "cell_type": "markdown",
   "metadata": {},
   "source": [
    "##### 1. NumPy [(http://www.numpy.org/)](http://www.numpy.org/) <br>\n",
    "Traditionally, we start our list with the libraries for scientific applications, and NumPy is one of the principal packages in this area. It is intended for processing large multidimensional arrays and matrices, and an extensive collection of high-level mathematical functions and implemented methods makes it possible to perform various operations with these objects. During the year, a large number of improvements have been made to the library. In addition to bug fixes and compatibility issues, the crucial changes regard styling possibilities, namely the printing format of NumPy objects. Also, some functions can now handle files of any encoding that is available in Python."
   ]
  },
  {
   "cell_type": "markdown",
   "metadata": {},
   "source": [
    "##### 2. SciPy [(https://scipy.org/scipylib/)](https://scipy.org/scipylib/)<br>\n",
    "Another core library for scientific computing is SciPy. It is based on NumPy and therefore extends its capabilities. SciPy main data structure is again a multidimensional array, implemented by Numpy. The package contains tools that help with solving linear algebra, probability theory, integral calculus and many more tasks. SciPy faced major build improvements in the form of continuous integration into different operating systems, new functions and methods and, what is especially important — the updated optimizers. Also, many new BLAS and LAPACK functions were wrapped."
   ]
  },
  {
   "cell_type": "markdown",
   "metadata": {},
   "source": [
    "##### 3. Pandas [(https://pandas.pydata.org/)](https://pandas.pydata.org/)<br>\n",
    "Pandas is a Python library that provides high-level data structures and a vast variety of tools for analysis. The great feature of this package is the ability to translate rather complex operations with data into one or two commands. Pandas contains many built-in methods for grouping, filtering, and combining data, as well as the time-series functionality. All of this is followed by impressive speed indicators. There have been a few new releases of the pandas library, including hundreds of new features, enhancements, bug fixes, and API changes. The improvements regard pandas abilities for grouping and sorting data, more suitable output for the apply method, and the support in performing custom types operations."
   ]
  },
  {
   "cell_type": "markdown",
   "metadata": {},
   "source": [
    "##### 4. Matplotlib [(https://matplotlib.org/index.html)](https://matplotlib.org/index.html) <br>\n",
    "Matplotlib is a low-level library for creating two-dimensional diagrams and graphs. With its help, you can build diverse charts, from histograms and scatterplots to non-Cartesian coordinates graphs. Moreover, many popular plotting libraries are designed to work in conjunction with matplotlib. There have been style changes in colors, sizes, fonts, legends, etc. As an example of an appearance improvements are an automatic alignment of axes legends and among significant colors improvements is a new colorblind-friendly color cycle."
   ]
  },
  {
   "cell_type": "markdown",
   "metadata": {},
   "source": [
    "##### 5. Scikit-learn [(https://scikit-learn.org/stable/)](https://scikit-learn.org/stable/)<br>\n",
    "This Python module based on NumPy and SciPy is one of the best libraries for working with data. It provides algorithms for many standard machine learning and data mining tasks such as clustering, regression, classification, dimensionality reduction, and model selection. There is a number of enhancements made to the library. The cross validation has been modified, providing an ability to use more than one metric. Several training methods like nearest neighbors and logistic regressions faced some minor improvements. Finally, one of the major updates is the accomplishment of the Glossary of Common Terms and API Elements which acquaints with the terminology and conventions used in Scikit-learn."
   ]
  },
  {
   "cell_type": "markdown",
   "metadata": {},
   "source": [
    "##### 6. TensorFlow [(https://www.tensorflow.org/)](https://www.tensorflow.org/)<br>\n",
    "TensorFlow is a popular framework for deep and machine learning, developed in Google Brain. It provides abilities to work with artificial neural networks with multiple data sets. Among the most popular TensorFlow applications are object identification, speech recognition, and more. There are also different layer-helpers on top of regular TensorFlow, such as tflearn, tf-slim, skflow, etc. This library is quick in new releases, introducing new and new features. Among the latest are fixes in potential security vulnerability and improved TensorFlow and GPU integration, such as you can run an Estimator model on multiple GPUs on one machine."
   ]
  },
  {
   "cell_type": "markdown",
   "metadata": {},
   "source": [
    "##### 7. TensorFlow Keras [(https://keras.io/)](https://keras.io/) <br>\n",
    "Keras is a high-level library for working with neural networks, running on top of TensorFlow, Theano, and now as a result of the new releases, it is also possible to use CNTK and MxNet as the backends. It simplifies many specific tasks and greatly reduces the amount of monotonous code. However, it may not be suitable for some complicated things. This library faced performance, usability, documentation, and API improvements. Some of the new features are Conv3DTranspose layer, new MobileNet application, and self-normalizing networks."
   ]
  },
  {
   "cell_type": "markdown",
   "metadata": {},
   "source": [
    "### 1.5.2 Importing and working with modules "
   ]
  },
  {
   "cell_type": "code",
   "execution_count": 1,
   "metadata": {},
   "outputs": [],
   "source": [
    "# magic command to display matplotlib plots inline within the ipython notebook webpage\n",
    "%matplotlib inline"
   ]
  },
  {
   "cell_type": "markdown",
   "metadata": {},
   "source": [
    "#### pandas"
   ]
  },
  {
   "cell_type": "code",
   "execution_count": 2,
   "metadata": {},
   "outputs": [
    {
     "data": {
      "text/html": [
       "<div>\n",
       "<style scoped>\n",
       "    .dataframe tbody tr th:only-of-type {\n",
       "        vertical-align: middle;\n",
       "    }\n",
       "\n",
       "    .dataframe tbody tr th {\n",
       "        vertical-align: top;\n",
       "    }\n",
       "\n",
       "    .dataframe thead th {\n",
       "        text-align: right;\n",
       "    }\n",
       "</style>\n",
       "<table border=\"1\" class=\"dataframe\">\n",
       "  <thead>\n",
       "    <tr style=\"text-align: right;\">\n",
       "      <th></th>\n",
       "      <th>lat</th>\n",
       "      <th>lon</th>\n",
       "      <th>date</th>\n",
       "      <th>city</th>\n",
       "      <th>country</th>\n",
       "    </tr>\n",
       "  </thead>\n",
       "  <tbody>\n",
       "    <tr>\n",
       "      <th>0</th>\n",
       "      <td>51.481292</td>\n",
       "      <td>-0.451011</td>\n",
       "      <td>05/14/2014 09:07</td>\n",
       "      <td>West Drayton</td>\n",
       "      <td>United Kingdom</td>\n",
       "    </tr>\n",
       "    <tr>\n",
       "      <th>1</th>\n",
       "      <td>51.474005</td>\n",
       "      <td>-0.450999</td>\n",
       "      <td>05/14/2014 09:22</td>\n",
       "      <td>Hounslow</td>\n",
       "      <td>United Kingdom</td>\n",
       "    </tr>\n",
       "    <tr>\n",
       "      <th>2</th>\n",
       "      <td>51.478199</td>\n",
       "      <td>-0.446081</td>\n",
       "      <td>05/14/2014 10:51</td>\n",
       "      <td>Hounslow</td>\n",
       "      <td>United Kingdom</td>\n",
       "    </tr>\n",
       "    <tr>\n",
       "      <th>3</th>\n",
       "      <td>51.478199</td>\n",
       "      <td>-0.446081</td>\n",
       "      <td>05/14/2014 11:24</td>\n",
       "      <td>Hounslow</td>\n",
       "      <td>United Kingdom</td>\n",
       "    </tr>\n",
       "    <tr>\n",
       "      <th>4</th>\n",
       "      <td>51.474146</td>\n",
       "      <td>-0.451562</td>\n",
       "      <td>05/14/2014 11:38</td>\n",
       "      <td>Hounslow</td>\n",
       "      <td>United Kingdom</td>\n",
       "    </tr>\n",
       "  </tbody>\n",
       "</table>\n",
       "</div>"
      ],
      "text/plain": [
       "         lat       lon              date          city         country\n",
       "0  51.481292 -0.451011  05/14/2014 09:07  West Drayton  United Kingdom\n",
       "1  51.474005 -0.450999  05/14/2014 09:22      Hounslow  United Kingdom\n",
       "2  51.478199 -0.446081  05/14/2014 10:51      Hounslow  United Kingdom\n",
       "3  51.478199 -0.446081  05/14/2014 11:24      Hounslow  United Kingdom\n",
       "4  51.474146 -0.451562  05/14/2014 11:38      Hounslow  United Kingdom"
      ]
     },
     "execution_count": 2,
     "metadata": {},
     "output_type": "execute_result"
    }
   ],
   "source": [
    "# pandas\n",
    "import pandas as pd\n",
    "\n",
    "# create a pandas dataframe from the location data set\n",
    "df = pd.read_csv('data/summer-travel-gps-full.csv')\n",
    "df.head()"
   ]
  },
  {
   "cell_type": "code",
   "execution_count": 3,
   "metadata": {},
   "outputs": [
    {
     "data": {
      "text/plain": [
       "<matplotlib.axes._subplots.AxesSubplot at 0x10fcc1ad0>"
      ]
     },
     "execution_count": 3,
     "metadata": {},
     "output_type": "execute_result"
    },
    {
     "data": {
      "image/png": "[encoded data removed]",
      "text/plain": [
       "<matplotlib.figure.Figure at 0x10df5f250>"
      ]
     },
     "metadata": {},
     "output_type": "display_data"
    }
   ],
   "source": [
    "df.plot(x='lat', y='lon', style='o')"
   ]
  },
  {
   "cell_type": "markdown",
   "metadata": {},
   "source": [
    "#### numpy"
   ]
  },
  {
   "cell_type": "code",
   "execution_count": 4,
   "metadata": {},
   "outputs": [
    {
     "name": "stdout",
     "output_type": "stream",
     "text": [
      "[0 1 2 3 4 5]\n"
     ]
    }
   ],
   "source": [
    "# numpy\n",
    "import numpy as np\n",
    "\n",
    "# array with, length = 6\n",
    "a = np.arange(6)\n",
    "print a"
   ]
  },
  {
   "cell_type": "code",
   "execution_count": 5,
   "metadata": {},
   "outputs": [
    {
     "name": "stdout",
     "output_type": "stream",
     "text": [
      "[[ 0  1  2]\n",
      " [ 3  4  5]\n",
      " [ 6  7  8]\n",
      " [ 9 10 11]]\n"
     ]
    }
   ],
   "source": [
    "# array with, length = 3, width = 4 \n",
    "b = np.arange(12).reshape(4,3)\n",
    "print b"
   ]
  },
  {
   "cell_type": "code",
   "execution_count": 6,
   "metadata": {},
   "outputs": [
    {
     "name": "stdout",
     "output_type": "stream",
     "text": [
      "[[[ 0  1  2  3]\n",
      "  [ 4  5  6  7]\n",
      "  [ 8  9 10 11]]\n",
      "\n",
      " [[12 13 14 15]\n",
      "  [16 17 18 19]\n",
      "  [20 21 22 23]]]\n"
     ]
    }
   ],
   "source": [
    "# array with length = 4, width = 2, height = 2\n",
    "c = np.arange(24).reshape(2,3,4)\n",
    "print c"
   ]
  },
  {
   "cell_type": "markdown",
   "metadata": {},
   "source": [
    "#### scikit-learn"
   ]
  },
  {
   "cell_type": "code",
   "execution_count": 7,
   "metadata": {},
   "outputs": [],
   "source": [
    "from sklearn import datasets\n",
    "iris = datasets.load_iris()\n",
    "digits = datasets.load_digits()"
   ]
  },
  {
   "cell_type": "code",
   "execution_count": 8,
   "metadata": {},
   "outputs": [
    {
     "name": "stdout",
     "output_type": "stream",
     "text": [
      "[[ 0.  0.  5. ...  0.  0.  0.]\n",
      " [ 0.  0.  0. ... 10.  0.  0.]\n",
      " [ 0.  0.  0. ... 16.  9.  0.]\n",
      " ...\n",
      " [ 0.  0.  1. ...  6.  0.  0.]\n",
      " [ 0.  0.  2. ... 12.  0.  0.]\n",
      " [ 0.  0. 10. ... 12.  1.  0.]]\n"
     ]
    }
   ],
   "source": [
    "print(digits.data) "
   ]
  },
  {
   "cell_type": "markdown",
   "metadata": {},
   "source": [
    "#### matplotlib"
   ]
  },
  {
   "cell_type": "code",
   "execution_count": 9,
   "metadata": {},
   "outputs": [
    {
     "data": {
      "image/png": "[encoded data removed]",
      "text/plain": [
       "<matplotlib.figure.Figure at 0x111a0f790>"
      ]
     },
     "metadata": {},
     "output_type": "display_data"
    }
   ],
   "source": [
    "# Import matplotlib\n",
    "import matplotlib.pyplot as plt \n",
    "\n",
    "# Join the images and target labels in a list\n",
    "images_and_labels = list(zip(digits.images, digits.target))\n",
    "\n",
    "# for every element in the list\n",
    "for index, (image, label) in enumerate(images_and_labels[:8]):\n",
    "    # initialize a subplot of 2X4 at the i+1-th position\n",
    "    plt.subplot(2, 4, index + 1)\n",
    "    # Don't plot any axes\n",
    "    plt.axis('off')\n",
    "    # Display images in all subplots \n",
    "    plt.imshow(image, cmap=plt.cm.gray_r,interpolation='nearest')\n",
    "    # Add a title to each subplot\n",
    "    plt.title('Training: ' + str(label))\n",
    "\n",
    "# Show the plot\n",
    "plt.show()"
   ]
  },
  {
   "cell_type": "code",
   "execution_count": 12,
   "metadata": {},
   "outputs": [
    {
     "name": "stdout",
     "output_type": "stream",
     "text": [
      "[(array([[ 0.,  0.,  5., 13.,  9.,  1.,  0.,  0.],\n",
      "       [ 0.,  0., 13., 15., 10., 15.,  5.,  0.],\n",
      "       [ 0.,  3., 15.,  2.,  0., 11.,  8.,  0.],\n",
      "       [ 0.,  4., 12.,  0.,  0.,  8.,  8.,  0.],\n",
      "       [ 0.,  5.,  8.,  0.,  0.,  9.,  8.,  0.],\n",
      "       [ 0.,  4., 11.,  0.,  1., 12.,  7.,  0.],\n",
      "       [ 0.,  2., 14.,  5., 10., 12.,  0.,  0.],\n",
      "       [ 0.,  0.,  6., 13., 10.,  0.,  0.,  0.]]), 0)]\n"
     ]
    }
   ],
   "source": [
    "print images_and_labels[:1]"
   ]
  },
  {
   "cell_type": "code",
   "execution_count": 15,
   "metadata": {},
   "outputs": [
    {
     "name": "stdout",
     "output_type": "stream",
     "text": [
      "[(0, (array([[ 0.,  0.,  5., 13.,  9.,  1.,  0.,  0.],\n",
      "       [ 0.,  0., 13., 15., 10., 15.,  5.,  0.],\n",
      "       [ 0.,  3., 15.,  2.,  0., 11.,  8.,  0.],\n",
      "       [ 0.,  4., 12.,  0.,  0.,  8.,  8.,  0.],\n",
      "       [ 0.,  5.,  8.,  0.,  0.,  9.,  8.,  0.],\n",
      "       [ 0.,  4., 11.,  0.,  1., 12.,  7.,  0.],\n",
      "       [ 0.,  2., 14.,  5., 10., 12.,  0.,  0.],\n",
      "       [ 0.,  0.,  6., 13., 10.,  0.,  0.,  0.]]), 0))]\n"
     ]
    }
   ],
   "source": [
    "print list(enumerate(images_and_labels[:1]))"
   ]
  },
  {
   "cell_type": "code",
   "execution_count": 22,
   "metadata": {},
   "outputs": [
    {
     "name": "stdout",
     "output_type": "stream",
     "text": [
      "0 0\n",
      "1 1\n",
      "2 2\n",
      "3 3\n",
      "4 4\n",
      "5 5\n",
      "6 6\n",
      "7 7\n",
      "8 8\n",
      "9 9\n",
      "10 0\n",
      "11 1\n"
     ]
    }
   ],
   "source": [
    "for element, (value,label) in enumerate(images_and_labels[:12]):\n",
    "    print element, label"
   ]
  },
  {
   "cell_type": "code",
   "execution_count": 17,
   "metadata": {},
   "outputs": [
    {
     "name": "stdout",
     "output_type": "stream",
     "text": [
      "(0, (array([[ 0.,  0.,  5., 13.,  9.,  1.,  0.,  0.],\n",
      "       [ 0.,  0., 13., 15., 10., 15.,  5.,  0.],\n",
      "       [ 0.,  3., 15.,  2.,  0., 11.,  8.,  0.],\n",
      "       [ 0.,  4., 12.,  0.,  0.,  8.,  8.,  0.],\n",
      "       [ 0.,  5.,  8.,  0.,  0.,  9.,  8.,  0.],\n",
      "       [ 0.,  4., 11.,  0.,  1., 12.,  7.,  0.],\n",
      "       [ 0.,  2., 14.,  5., 10., 12.,  0.,  0.],\n",
      "       [ 0.,  0.,  6., 13., 10.,  0.,  0.,  0.]]), 0))\n",
      "(1, (array([[ 0.,  0.,  0., 12., 13.,  5.,  0.,  0.],\n",
      "       [ 0.,  0.,  0., 11., 16.,  9.,  0.,  0.],\n",
      "       [ 0.,  0.,  3., 15., 16.,  6.,  0.,  0.],\n",
      "       [ 0.,  7., 15., 16., 16.,  2.,  0.,  0.],\n",
      "       [ 0.,  0.,  1., 16., 16.,  3.,  0.,  0.],\n",
      "       [ 0.,  0.,  1., 16., 16.,  6.,  0.,  0.],\n",
      "       [ 0.,  0.,  1., 16., 16.,  6.,  0.,  0.],\n",
      "       [ 0.,  0.,  0., 11., 16., 10.,  0.,  0.]]), 1))\n",
      "(2, (array([[ 0.,  0.,  0.,  4., 15., 12.,  0.,  0.],\n",
      "       [ 0.,  0.,  3., 16., 15., 14.,  0.,  0.],\n",
      "       [ 0.,  0.,  8., 13.,  8., 16.,  0.,  0.],\n",
      "       [ 0.,  0.,  1.,  6., 15., 11.,  0.,  0.],\n",
      "       [ 0.,  1.,  8., 13., 15.,  1.,  0.,  0.],\n",
      "       [ 0.,  9., 16., 16.,  5.,  0.,  0.,  0.],\n",
      "       [ 0.,  3., 13., 16., 16., 11.,  5.,  0.],\n",
      "       [ 0.,  0.,  0.,  3., 11., 16.,  9.,  0.]]), 2))\n",
      "(3, (array([[ 0.,  0.,  7., 15., 13.,  1.,  0.,  0.],\n",
      "       [ 0.,  8., 13.,  6., 15.,  4.,  0.,  0.],\n",
      "       [ 0.,  2.,  1., 13., 13.,  0.,  0.,  0.],\n",
      "       [ 0.,  0.,  2., 15., 11.,  1.,  0.,  0.],\n",
      "       [ 0.,  0.,  0.,  1., 12., 12.,  1.,  0.],\n",
      "       [ 0.,  0.,  0.,  0.,  1., 10.,  8.,  0.],\n",
      "       [ 0.,  0.,  8.,  4.,  5., 14.,  9.,  0.],\n",
      "       [ 0.,  0.,  7., 13., 13.,  9.,  0.,  0.]]), 3))\n",
      "(4, (array([[ 0.,  0.,  0.,  1., 11.,  0.,  0.,  0.],\n",
      "       [ 0.,  0.,  0.,  7.,  8.,  0.,  0.,  0.],\n",
      "       [ 0.,  0.,  1., 13.,  6.,  2.,  2.,  0.],\n",
      "       [ 0.,  0.,  7., 15.,  0.,  9.,  8.,  0.],\n",
      "       [ 0.,  5., 16., 10.,  0., 16.,  6.,  0.],\n",
      "       [ 0.,  4., 15., 16., 13., 16.,  1.,  0.],\n",
      "       [ 0.,  0.,  0.,  3., 15., 10.,  0.,  0.],\n",
      "       [ 0.,  0.,  0.,  2., 16.,  4.,  0.,  0.]]), 4))\n",
      "(5, (array([[ 0.,  0., 12., 10.,  0.,  0.,  0.,  0.],\n",
      "       [ 0.,  0., 14., 16., 16., 14.,  0.,  0.],\n",
      "       [ 0.,  0., 13., 16., 15., 10.,  1.,  0.],\n",
      "       [ 0.,  0., 11., 16., 16.,  7.,  0.,  0.],\n",
      "       [ 0.,  0.,  0.,  4.,  7., 16.,  7.,  0.],\n",
      "       [ 0.,  0.,  0.,  0.,  4., 16.,  9.,  0.],\n",
      "       [ 0.,  0.,  5.,  4., 12., 16.,  4.,  0.],\n",
      "       [ 0.,  0.,  9., 16., 16., 10.,  0.,  0.]]), 5))\n",
      "(6, (array([[ 0.,  0.,  0., 12., 13.,  0.,  0.,  0.],\n",
      "       [ 0.,  0.,  5., 16.,  8.,  0.,  0.,  0.],\n",
      "       [ 0.,  0., 13., 16.,  3.,  0.,  0.,  0.],\n",
      "       [ 0.,  0., 14., 13.,  0.,  0.,  0.,  0.],\n",
      "       [ 0.,  0., 15., 12.,  7.,  2.,  0.,  0.],\n",
      "       [ 0.,  0., 13., 16., 13., 16.,  3.,  0.],\n",
      "       [ 0.,  0.,  7., 16., 11., 15.,  8.,  0.],\n",
      "       [ 0.,  0.,  1.,  9., 15., 11.,  3.,  0.]]), 6))\n",
      "(7, (array([[ 0.,  0.,  7.,  8., 13., 16., 15.,  1.],\n",
      "       [ 0.,  0.,  7.,  7.,  4., 11., 12.,  0.],\n",
      "       [ 0.,  0.,  0.,  0.,  8., 13.,  1.,  0.],\n",
      "       [ 0.,  4.,  8.,  8., 15., 15.,  6.,  0.],\n",
      "       [ 0.,  2., 11., 15., 15.,  4.,  0.,  0.],\n",
      "       [ 0.,  0.,  0., 16.,  5.,  0.,  0.,  0.],\n",
      "       [ 0.,  0.,  9., 15.,  1.,  0.,  0.,  0.],\n",
      "       [ 0.,  0., 13.,  5.,  0.,  0.,  0.,  0.]]), 7))\n"
     ]
    }
   ],
   "source": [
    "for counter, value in enumerate(images_and_labels[:8]):\n",
    "    print(counter, value)"
   ]
  },
  {
   "cell_type": "code",
   "execution_count": 4,
   "metadata": {},
   "outputs": [
    {
     "name": "stdout",
     "output_type": "stream",
     "text": [
      "0 A 2\n",
      "1 B 4\n",
      "2 C 6\n",
      "3 D 8\n"
     ]
    }
   ],
   "source": [
    "list_1 = ['A', 'B', 'C', 'D']\n",
    "list_2 = [2,4,6,8]\n",
    "\n",
    "coupled_list = list(zip(list_1, list_2))\n",
    "\n",
    "for count, (item_1, item_2) in enumerate(coupled_list):\n",
    "    print count, item_1, item_2\n",
    "    "
   ]
  },
  {
   "cell_type": "code",
   "execution_count": null,
   "metadata": {},
   "outputs": [],
   "source": []
  }
 ],
 "metadata": {
  "kernelspec": {
   "display_name": "Python 2",
   "language": "python",
   "name": "python2"
  },
  "language_info": {
   "codemirror_mode": {
    "name": "ipython",
    "version": 2
   },
   "file_extension": ".py",
   "mimetype": "text/x-python",
   "name": "python",
   "nbconvert_exporter": "python",
   "pygments_lexer": "ipython2",
   "version": "2.7.13"
  }
 },
 "nbformat": 4,
 "nbformat_minor": 2
}
